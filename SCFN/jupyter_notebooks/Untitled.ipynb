{
 "cells": [
  {
   "cell_type": "code",
   "execution_count": 1,
   "metadata": {},
   "outputs": [],
   "source": [
    "import os\n",
    "import sys\n",
    "module_path = os.path.abspath(os.path.join('..'))\n",
    "if module_path not in sys.path:\n",
    "    sys.path.append(module_path)"
   ]
  },
  {
   "cell_type": "code",
   "execution_count": 2,
   "metadata": {},
   "outputs": [],
   "source": [
    "from utils.data_loader import BrainMRIData\n",
    "from utils.transform_classes import ToTensor, Rescale\n",
    "from models.scfn import SFCN\n",
    "from torchvision import transforms\n",
    "from torch.utils.data import DataLoader\n",
    "from data.ixi_data import get_data"
   ]
  },
  {
   "cell_type": "code",
   "execution_count": 3,
   "metadata": {},
   "outputs": [],
   "source": [
    "model = SFCN()"
   ]
  },
  {
   "cell_type": "code",
   "execution_count": 4,
   "metadata": {
    "collapsed": true
   },
   "outputs": [
    {
     "name": "stdout",
     "output_type": "stream",
     "text": [
      "SFCN(\n",
      "  (feature_extractor): Sequential(\n",
      "    (conv_0): Sequential(\n",
      "      (0): Conv3d(1, 32, kernel_size=(3, 3, 3), stride=(1, 1, 1), padding=(1, 1, 1))\n",
      "      (1): BatchNorm3d(32, eps=1e-05, momentum=0.1, affine=True, track_running_stats=True)\n",
      "      (2): MaxPool3d(kernel_size=2, stride=2, padding=0, dilation=1, ceil_mode=False)\n",
      "      (3): ReLU()\n",
      "    )\n",
      "    (conv_1): Sequential(\n",
      "      (0): Conv3d(32, 64, kernel_size=(3, 3, 3), stride=(1, 1, 1), padding=(1, 1, 1))\n",
      "      (1): BatchNorm3d(64, eps=1e-05, momentum=0.1, affine=True, track_running_stats=True)\n",
      "      (2): MaxPool3d(kernel_size=2, stride=2, padding=0, dilation=1, ceil_mode=False)\n",
      "      (3): ReLU()\n",
      "    )\n",
      "    (conv_2): Sequential(\n",
      "      (0): Conv3d(64, 128, kernel_size=(3, 3, 3), stride=(1, 1, 1), padding=(1, 1, 1))\n",
      "      (1): BatchNorm3d(128, eps=1e-05, momentum=0.1, affine=True, track_running_stats=True)\n",
      "      (2): MaxPool3d(kernel_size=2, stride=2, padding=0, dilation=1, ceil_mode=False)\n",
      "      (3): ReLU()\n",
      "    )\n",
      "    (conv_3): Sequential(\n",
      "      (0): Conv3d(128, 256, kernel_size=(3, 3, 3), stride=(1, 1, 1), padding=(1, 1, 1))\n",
      "      (1): BatchNorm3d(256, eps=1e-05, momentum=0.1, affine=True, track_running_stats=True)\n",
      "      (2): MaxPool3d(kernel_size=2, stride=2, padding=0, dilation=1, ceil_mode=False)\n",
      "      (3): ReLU()\n",
      "    )\n",
      "    (conv_4): Sequential(\n",
      "      (0): Conv3d(256, 256, kernel_size=(3, 3, 3), stride=(1, 1, 1), padding=(1, 1, 1))\n",
      "      (1): BatchNorm3d(256, eps=1e-05, momentum=0.1, affine=True, track_running_stats=True)\n",
      "      (2): MaxPool3d(kernel_size=2, stride=2, padding=0, dilation=1, ceil_mode=False)\n",
      "      (3): ReLU()\n",
      "    )\n",
      "    (conv_5): Sequential(\n",
      "      (0): Conv3d(256, 64, kernel_size=(1, 1, 1), stride=(1, 1, 1))\n",
      "      (1): BatchNorm3d(64, eps=1e-05, momentum=0.1, affine=True, track_running_stats=True)\n",
      "      (2): ReLU()\n",
      "    )\n",
      "  )\n",
      "  (classifier): Sequential(\n",
      "    (average_pool): AvgPool3d(kernel_size=[8, 8, 4], stride=[8, 8, 4], padding=0)\n",
      "    (dropout): Dropout(p=0.5, inplace=False)\n",
      "    (conv_6): Conv3d(64, 40, kernel_size=(1, 1, 1), stride=(1, 1, 1))\n",
      "  )\n",
      ")\n",
      "26\n",
      "torch.Size([32, 1, 3, 3, 3])\n"
     ]
    }
   ],
   "source": [
    "print(model)\n",
    "params = list(model.parameters())\n",
    "print(len(params))\n",
    "print(params[0].size())"
   ]
  },
  {
   "cell_type": "code",
   "execution_count": 5,
   "metadata": {},
   "outputs": [
    {
     "name": "stdout",
     "output_type": "stream",
     "text": [
      "data.shape:  (10, 5)\n",
      "Train.shape: (6, 5), Val.shape: (2, 5), Test.shape: (2, 5)\n"
     ]
    }
   ],
   "source": [
    "train, val, test = get_data()\n",
    "data = BrainMRIData(train.Loc.values, train.Age.values, transform=ToTensor())"
   ]
  },
  {
   "cell_type": "code",
   "execution_count": 16,
   "metadata": {},
   "outputs": [
    {
     "name": "stdout",
     "output_type": "stream",
     "text": [
      "float64\n"
     ]
    },
    {
     "data": {
      "text/plain": [
       "torch.Size([1, 1, 256, 256, 150])"
      ]
     },
     "execution_count": 16,
     "metadata": {},
     "output_type": "execute_result"
    }
   ],
   "source": [
    "inp = data[2]['image']\n",
    "inp = inp.unsqueeze(0)\n",
    "inp.shape"
   ]
  },
  {
   "cell_type": "code",
   "execution_count": 18,
   "metadata": {},
   "outputs": [
    {
     "name": "stdout",
     "output_type": "stream",
     "text": [
      "[tensor([[[[[-4.0706]]],\n",
      "\n",
      "\n",
      "         [[[-4.0079]]],\n",
      "\n",
      "\n",
      "         [[[-4.0816]]],\n",
      "\n",
      "\n",
      "         [[[-4.0047]]],\n",
      "\n",
      "\n",
      "         [[[-4.1353]]],\n",
      "\n",
      "\n",
      "         [[[-3.4173]]],\n",
      "\n",
      "\n",
      "         [[[-3.3913]]],\n",
      "\n",
      "\n",
      "         [[[-3.9578]]],\n",
      "\n",
      "\n",
      "         [[[-4.1819]]],\n",
      "\n",
      "\n",
      "         [[[-3.4523]]],\n",
      "\n",
      "\n",
      "         [[[-3.9929]]],\n",
      "\n",
      "\n",
      "         [[[-4.2378]]],\n",
      "\n",
      "\n",
      "         [[[-3.4359]]],\n",
      "\n",
      "\n",
      "         [[[-3.6398]]],\n",
      "\n",
      "\n",
      "         [[[-3.8752]]],\n",
      "\n",
      "\n",
      "         [[[-3.7954]]],\n",
      "\n",
      "\n",
      "         [[[-3.5055]]],\n",
      "\n",
      "\n",
      "         [[[-4.0455]]],\n",
      "\n",
      "\n",
      "         [[[-3.4035]]],\n",
      "\n",
      "\n",
      "         [[[-3.1760]]],\n",
      "\n",
      "\n",
      "         [[[-3.6779]]],\n",
      "\n",
      "\n",
      "         [[[-2.9281]]],\n",
      "\n",
      "\n",
      "         [[[-3.3438]]],\n",
      "\n",
      "\n",
      "         [[[-3.7171]]],\n",
      "\n",
      "\n",
      "         [[[-3.6912]]],\n",
      "\n",
      "\n",
      "         [[[-3.5823]]],\n",
      "\n",
      "\n",
      "         [[[-3.9756]]],\n",
      "\n",
      "\n",
      "         [[[-3.8606]]],\n",
      "\n",
      "\n",
      "         [[[-3.4585]]],\n",
      "\n",
      "\n",
      "         [[[-4.0027]]],\n",
      "\n",
      "\n",
      "         [[[-3.6536]]],\n",
      "\n",
      "\n",
      "         [[[-4.2194]]],\n",
      "\n",
      "\n",
      "         [[[-4.5292]]],\n",
      "\n",
      "\n",
      "         [[[-4.0747]]],\n",
      "\n",
      "\n",
      "         [[[-3.5938]]],\n",
      "\n",
      "\n",
      "         [[[-3.7433]]],\n",
      "\n",
      "\n",
      "         [[[-3.4743]]],\n",
      "\n",
      "\n",
      "         [[[-3.2202]]],\n",
      "\n",
      "\n",
      "         [[[-3.8096]]],\n",
      "\n",
      "\n",
      "         [[[-3.4842]]]]], grad_fn=<LogSoftmaxBackward>)]\n"
     ]
    }
   ],
   "source": [
    "model  = model.float()\n",
    "out = model(inp.float())\n",
    "print(out)"
   ]
  },
  {
   "cell_type": "code",
   "execution_count": null,
   "metadata": {},
   "outputs": [],
   "source": []
  }
 ],
 "metadata": {
  "kernelspec": {
   "display_name": "Python 3",
   "language": "python",
   "name": "python3"
  },
  "language_info": {
   "codemirror_mode": {
    "name": "ipython",
    "version": 3
   },
   "file_extension": ".py",
   "mimetype": "text/x-python",
   "name": "python",
   "nbconvert_exporter": "python",
   "pygments_lexer": "ipython3",
   "version": "3.7.1"
  }
 },
 "nbformat": 4,
 "nbformat_minor": 2
}
